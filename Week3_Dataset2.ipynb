{
  "nbformat": 4,
  "nbformat_minor": 0,
  "metadata": {
    "colab": {
      "provenance": [],
      "mount_file_id": "1C7nnrc9QA7ikdv1Z60Hidd7thlOS3TV8",
      "authorship_tag": "ABX9TyOBnfDDOcWU3rY3kfcf3Y6G",
      "include_colab_link": true
    },
    "kernelspec": {
      "name": "python3",
      "display_name": "Python 3"
    },
    "language_info": {
      "name": "python"
    }
  },
  "cells": [
    {
      "cell_type": "markdown",
      "metadata": {
        "id": "view-in-github",
        "colab_type": "text"
      },
      "source": [
        "<a href=\"https://colab.research.google.com/github/NitheeshMS/Datacleaning_with_PANDAS/blob/main/Week3_Dataset2.ipynb\" target=\"_parent\"><img src=\"https://colab.research.google.com/assets/colab-badge.svg\" alt=\"Open In Colab\"/></a>"
      ]
    },
    {
      "cell_type": "code",
      "execution_count": 1,
      "metadata": {
        "colab": {
          "base_uri": "https://localhost:8080/"
        },
        "id": "V--iLsWpiVWT",
        "outputId": "3ee4e7da-9093-4472-d8a1-5c4a745538b6"
      },
      "outputs": [
        {
          "output_type": "stream",
          "name": "stdout",
          "text": [
            "   order_id  quantity                              item_name  \\\n",
            "0         1         1           Chips and Fresh Tomato Salsa   \n",
            "1         1         1                                   Izze   \n",
            "2         1         1                       Nantucket Nectar   \n",
            "3         1         1  Chips and Tomatillo-Green Chili Salsa   \n",
            "4         2         2                           Chicken Bowl   \n",
            "\n",
            "                                  choice_description item_price  \n",
            "0                                                NaN     $2.39   \n",
            "1                                       [Clementine]     $3.39   \n",
            "2                                            [Apple]     $3.39   \n",
            "3                                                NaN     $2.39   \n",
            "4  [Tomatillo-Red Chili Salsa (Hot), [Black Beans...    $16.98   \n"
          ]
        }
      ],
      "source": [
        "import pandas as pd\n",
        "\n",
        "\n",
        "file_path = '/content/drive/MyDrive/chipotle.tsv'\n",
        "\n",
        "# Read the TSV file into a DataFrame\n",
        "chipotle_df = pd.read_csv(file_path, sep='\\t')\n",
        "\n",
        "# Display the first few rows of the DataFrame to verify the data has been loaded successfully\n",
        "print(chipotle_df.head())\n"
      ]
    },
    {
      "cell_type": "code",
      "source": [
        "import pandas as pd\n",
        "\n",
        "\n",
        "# Replace 'chipotle.tsv' with the actual path to your TSV file if needed\n",
        "chipotle_data = pd.read_csv('/content/drive/MyDrive/chipotle.tsv', sep='\\t')\n",
        "\n",
        "# Check for missing values in each column\n",
        "missing_values = chipotle_data[['order_id', 'quantity', 'item_name', 'choice_description', 'item_price']].isnull().sum()\n",
        "\n",
        "print(\"Missing values in each column:\")\n",
        "print(missing_values)\n"
      ],
      "metadata": {
        "colab": {
          "base_uri": "https://localhost:8080/"
        },
        "id": "ZtoUa3RMW9wG",
        "outputId": "187447d8-8ee4-4bbf-81cd-96b21892709f"
      },
      "execution_count": 3,
      "outputs": [
        {
          "output_type": "stream",
          "name": "stdout",
          "text": [
            "Missing values in each column:\n",
            "order_id                 0\n",
            "quantity                 0\n",
            "item_name                0\n",
            "choice_description    1246\n",
            "item_price               0\n",
            "dtype: int64\n"
          ]
        }
      ]
    },
    {
      "cell_type": "code",
      "source": [
        "chipotle_data['choice_description'].fillna('Not specified', inplace=True)\n"
      ],
      "metadata": {
        "id": "y_m5U6ZmXTzx"
      },
      "execution_count": 4,
      "outputs": []
    },
    {
      "cell_type": "code",
      "source": [
        "# Assuming your DataFrame is named df\n",
        "missing_values = chipotle_data.isnull().sum()\n",
        "\n",
        "# Display the missing values for each column\n",
        "print(missing_values)\n"
      ],
      "metadata": {
        "colab": {
          "base_uri": "https://localhost:8080/"
        },
        "id": "oEHdoqLYXqst",
        "outputId": "1eaaedbb-9ff2-491b-987f-5ba544039416"
      },
      "execution_count": 6,
      "outputs": [
        {
          "output_type": "stream",
          "name": "stdout",
          "text": [
            "order_id              0\n",
            "quantity              0\n",
            "item_name             0\n",
            "choice_description    0\n",
            "item_price            0\n",
            "dtype: int64\n"
          ]
        }
      ]
    },
    {
      "cell_type": "code",
      "source": [
        "# Display the data types of each column in chipotle_data\n",
        "print(chipotle_data.dtypes)\n"
      ],
      "metadata": {
        "colab": {
          "base_uri": "https://localhost:8080/"
        },
        "id": "a-EsBsE4Xwo1",
        "outputId": "cc88c1ec-fd05-448a-b45f-00b3c317cdab"
      },
      "execution_count": 8,
      "outputs": [
        {
          "output_type": "stream",
          "name": "stdout",
          "text": [
            "order_id               int64\n",
            "quantity               int64\n",
            "item_name             object\n",
            "choice_description    object\n",
            "item_price            object\n",
            "dtype: object\n"
          ]
        }
      ]
    },
    {
      "cell_type": "code",
      "source": [
        "chipotle_data['item_price'] = chipotle_data['item_price'].astype(str)\n",
        "chipotle_data['item_price'] = pd.to_numeric(chipotle_data['item_price'].str.replace('$', '', regex=True), errors='coerce')\n"
      ],
      "metadata": {
        "id": "0bkKrxNcX81P"
      },
      "execution_count": 11,
      "outputs": []
    },
    {
      "cell_type": "code",
      "source": [
        "chipotle_data.dtypes\n",
        "\n"
      ],
      "metadata": {
        "colab": {
          "base_uri": "https://localhost:8080/"
        },
        "id": "AWPnoNZxYTAD",
        "outputId": "0752c740-3dd4-4270-8da2-5b1919c71942"
      },
      "execution_count": 12,
      "outputs": [
        {
          "output_type": "execute_result",
          "data": {
            "text/plain": [
              "order_id                int64\n",
              "quantity                int64\n",
              "item_name              object\n",
              "choice_description     object\n",
              "item_price            float64\n",
              "dtype: object"
            ]
          },
          "metadata": {},
          "execution_count": 12
        }
      ]
    },
    {
      "cell_type": "code",
      "source": [
        "duplicates = chipotle_data[chipotle_data.duplicated()]\n",
        "print(\"Duplicated Entries:\\n\", duplicates)\n"
      ],
      "metadata": {
        "colab": {
          "base_uri": "https://localhost:8080/"
        },
        "id": "KjwCxZ1cYvH4",
        "outputId": "656226e8-2579-4a9a-d77f-490334d5085a"
      },
      "execution_count": 13,
      "outputs": [
        {
          "output_type": "stream",
          "name": "stdout",
          "text": [
            "Duplicated Entries:\n",
            "       order_id  quantity                            item_name  \\\n",
            "238        103         1                        Steak Burrito   \n",
            "248        108         1                          Canned Soda   \n",
            "297        129         1                        Steak Burrito   \n",
            "381        165         1                    Canned Soft Drink   \n",
            "484        205         1                         Chicken Bowl   \n",
            "567        233         1                    Canned Soft Drink   \n",
            "617        254         1                                Chips   \n",
            "684        282         1                    Canned Soft Drink   \n",
            "773        319         1                         Chicken Bowl   \n",
            "908        376         1                        Steak Burrito   \n",
            "924        381         1                   Chicken Soft Tacos   \n",
            "1003       412         1                        Bottled Water   \n",
            "1117       462         1                      Chicken Burrito   \n",
            "1203       491         1                      Chicken Burrito   \n",
            "1245       507         1                    Canned Soft Drink   \n",
            "1381       561         1                    Canned Soft Drink   \n",
            "1410       573         1                        Bottled Water   \n",
            "1420       576         1                        Barbacoa Bowl   \n",
            "1421       576         1                  Barbacoa Salad Bowl   \n",
            "1502       610         1                      Chicken Burrito   \n",
            "1534       624         1  Chips and Tomatillo-Red Chili Salsa   \n",
            "1548       628         1                  Chips and Guacamole   \n",
            "1612       651         1                                 Izze   \n",
            "1791       724         1                    Canned Soft Drink   \n",
            "1792       724         1                    Canned Soft Drink   \n",
            "2078       838         1                   Chicken Soft Tacos   \n",
            "2127       856         1                      Chicken Burrito   \n",
            "2307       926         1                         Chicken Bowl   \n",
            "2318       926         1                         Chicken Bowl   \n",
            "2362       940         1                    Canned Soft Drink   \n",
            "2448       972         1                         Chicken Bowl   \n",
            "2553      1011         1                    Canned Soft Drink   \n",
            "2554      1011         1                    Canned Soft Drink   \n",
            "2560      1013         1                  Chips and Guacamole   \n",
            "2576      1020         1  Chips and Tomatillo Red Chili Salsa   \n",
            "2662      1057         1                   Chicken Soft Tacos   \n",
            "2708      1074         1                                Chips   \n",
            "2717      1078         1                         Chicken Bowl   \n",
            "2833      1125         1                      Chicken Burrito   \n",
            "2881      1144         1                        Bottled Water   \n",
            "2973      1182         1                         Chicken Bowl   \n",
            "2977      1184         1                           Steak Bowl   \n",
            "3121      1244         1                  Chips and Guacamole   \n",
            "3430      1377         1  Chips and Tomatillo Red Chili Salsa   \n",
            "3637      1454         1                   Chicken Soft Tacos   \n",
            "3716      1484         1                          Canned Soda   \n",
            "3764      1507         1                      Chicken Burrito   \n",
            "3829      1534         1                      Chicken Burrito   \n",
            "3924      1574         1                        Bottled Water   \n",
            "4112      1647         1                         Chicken Bowl   \n",
            "4155      1660         1                  Chips and Guacamole   \n",
            "4236      1691         1                         Chicken Bowl   \n",
            "4266      1701         1                                Chips   \n",
            "4372      1745         1                  Chips and Guacamole   \n",
            "4463      1778         1                    Canned Soft Drink   \n",
            "4479      1785         1                        Bottled Water   \n",
            "4544      1806         1                        Bottled Water   \n",
            "4570      1817         1                        Bottled Water   \n",
            "4603      1827         1                     Barbacoa Burrito   \n",
            "\n",
            "                                     choice_description  item_price  \n",
            "238   [Tomatillo Red Chili Salsa, [Rice, Black Beans...       11.75  \n",
            "248                                      [Mountain Dew]        1.09  \n",
            "297   [Tomatillo Green Chili Salsa, [Rice, Cheese, G...       11.75  \n",
            "381                                              [Coke]        1.25  \n",
            "484   [Fresh Tomato Salsa, [Fajita Vegetables, Rice,...        8.75  \n",
            "567                                         [Diet Coke]        1.25  \n",
            "617                                       Not specified        2.15  \n",
            "684                                              [Coke]        1.25  \n",
            "773   [Tomatillo-Green Chili Salsa (Medium), Black B...        8.49  \n",
            "908   [Roasted Chili Corn Salsa (Medium), [Rice, Faj...        8.99  \n",
            "924           [Tomatillo-Red Chili Salsa (Hot), Cheese]        8.49  \n",
            "1003                                      Not specified        1.50  \n",
            "1117  [Fresh Tomato Salsa, [Rice, Black Beans, Chees...       11.25  \n",
            "1203  [Fresh Tomato Salsa, [Cheese, Sour Cream, Lett...        8.75  \n",
            "1245                                         [Lemonade]        1.25  \n",
            "1381                                             [Coke]        1.25  \n",
            "1410                                      Not specified        1.50  \n",
            "1420                         [Roasted Chili Corn Salsa]        9.25  \n",
            "1421                         [Roasted Chili Corn Salsa]        9.39  \n",
            "1502  [Fresh Tomato Salsa, [Fajita Vegetables, Rice,...        8.75  \n",
            "1534                                      Not specified        2.39  \n",
            "1548                                      Not specified        4.45  \n",
            "1612                                       [Blackberry]        3.39  \n",
            "1791                                             [Coke]        1.25  \n",
            "1792                                             [Coke]        1.25  \n",
            "2078  [Fresh Tomato Salsa, [Cheese, Sour Cream, Lett...        8.75  \n",
            "2127  [Fresh Tomato Salsa, [Rice, Black Beans, Chees...       11.25  \n",
            "2307  [Roasted Chili Corn Salsa, [Fajita Vegetables,...        8.75  \n",
            "2318  [Roasted Chili Corn Salsa, [Fajita Vegetables,...        8.75  \n",
            "2362                                             [Coke]        1.25  \n",
            "2448  [Tomatillo Red Chili Salsa, [Rice, Black Beans...        8.75  \n",
            "2553                                             [Coke]        1.25  \n",
            "2554                                             [Coke]        1.25  \n",
            "2560                                      Not specified        4.45  \n",
            "2576                                      Not specified        2.95  \n",
            "2662  [Tomatillo Red Chili Salsa, [Fajita Vegetables...       11.25  \n",
            "2708                                      Not specified        2.15  \n",
            "2717  [Fresh Tomato Salsa, [Rice, Black Beans, Chees...       11.25  \n",
            "2833      [Fresh Tomato Salsa, [Rice, Cheese, Lettuce]]        8.75  \n",
            "2881                                      Not specified        1.50  \n",
            "2973  [Tomatillo-Red Chili Salsa (Hot), [Rice, Black...        8.49  \n",
            "2977  [Fresh Tomato Salsa, [Rice, Pinto Beans, Chees...        9.25  \n",
            "3121                                      Not specified        4.45  \n",
            "3430                                      Not specified        2.95  \n",
            "3637                         [Fresh Tomato Salsa, Rice]        8.75  \n",
            "3716                                       [Dr. Pepper]        1.09  \n",
            "3764  [Fresh Tomato Salsa, [Rice, Black Beans, Chees...        8.75  \n",
            "3829  [Fresh Tomato Salsa, [Rice, Cheese, Sour Cream...        8.75  \n",
            "3924                                      Not specified        1.50  \n",
            "4112  [Fresh Tomato Salsa, [Fajita Vegetables, Rice,...       11.25  \n",
            "4155                                      Not specified        4.45  \n",
            "4236                                       [White Rice]        8.50  \n",
            "4266                                      Not specified        2.15  \n",
            "4372                                      Not specified        4.45  \n",
            "4463                                         [Lemonade]        1.25  \n",
            "4479                                      Not specified        1.50  \n",
            "4544                                      Not specified        1.50  \n",
            "4570                                      Not specified        1.50  \n",
            "4603                      [Tomatillo Green Chili Salsa]        9.25  \n"
          ]
        }
      ]
    },
    {
      "cell_type": "code",
      "source": [
        "chipotle_data = chipotle_data.drop_duplicates()\n"
      ],
      "metadata": {
        "id": "w8B0inuwY37O"
      },
      "execution_count": 14,
      "outputs": []
    },
    {
      "cell_type": "code",
      "source": [
        "duplicates_after_removal = chipotle_data[chipotle_data.duplicated()]\n",
        "print(\"Duplicated Entries After Removal:\\n\", duplicates_after_removal)\n"
      ],
      "metadata": {
        "colab": {
          "base_uri": "https://localhost:8080/"
        },
        "id": "vTaVhQekZg4c",
        "outputId": "d57515b4-e697-4ee9-db48-c22d47a6b96a"
      },
      "execution_count": 15,
      "outputs": [
        {
          "output_type": "stream",
          "name": "stdout",
          "text": [
            "Duplicated Entries After Removal:\n",
            " Empty DataFrame\n",
            "Columns: [order_id, quantity, item_name, choice_description, item_price]\n",
            "Index: []\n"
          ]
        }
      ]
    },
    {
      "cell_type": "code",
      "source": [
        "# Check the distribution of quantities\n",
        "quantity_distribution = chipotle_data['quantity'].value_counts()\n",
        "print(quantity_distribution)\n"
      ],
      "metadata": {
        "colab": {
          "base_uri": "https://localhost:8080/"
        },
        "id": "yikMi99NZjI4",
        "outputId": "cbdfbcb2-eae7-49d5-e6f5-5e693b969b4a"
      },
      "execution_count": 16,
      "outputs": [
        {
          "output_type": "stream",
          "name": "stdout",
          "text": [
            "1     4296\n",
            "2      224\n",
            "3       28\n",
            "4       10\n",
            "5        1\n",
            "15       1\n",
            "7        1\n",
            "8        1\n",
            "10       1\n",
            "Name: quantity, dtype: int64\n"
          ]
        }
      ]
    },
    {
      "cell_type": "code",
      "source": [
        "# Display unique values in the \"Item Price\" column\n",
        "unique_item_prices = chipotle_data['item_price'].unique()\n",
        "print(unique_item_prices)\n"
      ],
      "metadata": {
        "colab": {
          "base_uri": "https://localhost:8080/"
        },
        "id": "0LaWIoLMZ8AR",
        "outputId": "08868e94-ebf5-4155-9ec2-62d5d97db3d9"
      },
      "execution_count": 17,
      "outputs": [
        {
          "output_type": "stream",
          "name": "stdout",
          "text": [
            "[ 2.39  3.39 16.98 10.98  1.69 11.75  9.25  4.45  8.75 11.25  8.49  2.18\n",
            "  8.99  1.09  2.95  2.15  3.99 22.5  11.48 17.98 17.5   4.3   5.9   1.25\n",
            " 23.78  6.49 11.08  1.5  22.16 32.94 22.2  10.58  2.5  23.5   7.4  18.5\n",
            "  3.    6.78 11.89  9.39  4.    3.75  8.69  2.29  8.9   3.27  3.89  8.19\n",
            " 35.   27.75 11.8   6.   26.25 21.96  4.36  7.5   4.78 13.35  6.45  5.07\n",
            " 22.96  7.17  7.98  4.5  26.07 12.98 35.25 44.25 10.5  33.75 16.38 13.52\n",
            "  5.   15.    8.5  17.8   1.99 11.49]\n"
          ]
        }
      ]
    },
    {
      "cell_type": "code",
      "source": [
        "# Remove '$' from \"Item Price\" and convert to numeric\n",
        "chipotle_data['item_price'] = pd.to_numeric(chipotle_data['item_price'].replace('[\\$,]', '', regex=True), errors='coerce')\n",
        "\n",
        "# Display rows with non-numeric \"Item Price\"\n",
        "problematic_item_price_rows = chipotle_data[chipotle_data['item_price'].isna()]\n",
        "print(problematic_item_price_rows[['item_price']])\n"
      ],
      "metadata": {
        "colab": {
          "base_uri": "https://localhost:8080/"
        },
        "id": "1FnTquV9aL5B",
        "outputId": "9814eab4-9686-4a3b-f87e-4e2166d5b814"
      },
      "execution_count": 23,
      "outputs": [
        {
          "output_type": "stream",
          "name": "stdout",
          "text": [
            "Empty DataFrame\n",
            "Columns: [item_price]\n",
            "Index: []\n"
          ]
        }
      ]
    },
    {
      "cell_type": "code",
      "source": [
        "# Examine the 'Quantity' column\n",
        "quantity_counts = chipotle_data['quantity'].value_counts()\n",
        "print(quantity_counts)\n",
        "\n",
        "# Examine the 'Item Price' column\n",
        "item_price_stats = chipotle_data['item_price'].describe()\n",
        "print(item_price_stats)\n"
      ],
      "metadata": {
        "colab": {
          "base_uri": "https://localhost:8080/"
        },
        "id": "yjbI2ZY5aUOg",
        "outputId": "e5e7d615-d335-45c9-a448-81c753dc401f"
      },
      "execution_count": 24,
      "outputs": [
        {
          "output_type": "stream",
          "name": "stdout",
          "text": [
            "1     4296\n",
            "2      224\n",
            "3       28\n",
            "4       10\n",
            "5        1\n",
            "15       1\n",
            "7        1\n",
            "8        1\n",
            "10       1\n",
            "Name: quantity, dtype: int64\n",
            "count    4563.000000\n",
            "mean        7.490083\n",
            "std         4.244155\n",
            "min         1.090000\n",
            "25%         3.750000\n",
            "50%         8.750000\n",
            "75%         9.250000\n",
            "max        44.250000\n",
            "Name: item_price, dtype: float64\n"
          ]
        }
      ]
    },
    {
      "cell_type": "code",
      "source": [
        "# Display unique values and their counts in the 'quantity' column\n",
        "quantity_counts = chipotle_data['quantity'].value_counts()\n",
        "print(quantity_counts)\n"
      ],
      "metadata": {
        "colab": {
          "base_uri": "https://localhost:8080/"
        },
        "id": "nW3olyasbG6z",
        "outputId": "255c2160-09f3-4de5-ef58-0c6ee441dadb"
      },
      "execution_count": 25,
      "outputs": [
        {
          "output_type": "stream",
          "name": "stdout",
          "text": [
            "1     4296\n",
            "2      224\n",
            "3       28\n",
            "4       10\n",
            "5        1\n",
            "15       1\n",
            "7        1\n",
            "8        1\n",
            "10       1\n",
            "Name: quantity, dtype: int64\n"
          ]
        }
      ]
    },
    {
      "cell_type": "code",
      "source": [
        "# Display summary statistics for \"item_price\"\n",
        "item_price_stats = chipotle_data['item_price'].describe()\n",
        "print(item_price_stats)\n"
      ],
      "metadata": {
        "colab": {
          "base_uri": "https://localhost:8080/"
        },
        "id": "5-EDhJ18bj65",
        "outputId": "9d105481-dfe5-41f8-b642-1078694e7c4c"
      },
      "execution_count": 26,
      "outputs": [
        {
          "output_type": "stream",
          "name": "stdout",
          "text": [
            "count    4563.000000\n",
            "mean        7.490083\n",
            "std         4.244155\n",
            "min         1.090000\n",
            "25%         3.750000\n",
            "50%         8.750000\n",
            "75%         9.250000\n",
            "max        44.250000\n",
            "Name: item_price, dtype: float64\n"
          ]
        }
      ]
    },
    {
      "cell_type": "code",
      "source": [
        "# Filter the DataFrame to exclude orders with quantities greater than 2\n",
        "filtered_chipotle_data = chipotle_data[chipotle_data['quantity'] <= 2]\n",
        "\n",
        "# Display unique values and their counts in the 'quantity' column after filtering\n",
        "filtered_quantity_counts = filtered_chipotle_data['quantity'].value_counts()\n",
        "print(filtered_quantity_counts)\n"
      ],
      "metadata": {
        "colab": {
          "base_uri": "https://localhost:8080/"
        },
        "id": "TWaFaa71by9i",
        "outputId": "b23f576a-d65d-473f-afdd-a36f7e6ee53c"
      },
      "execution_count": 27,
      "outputs": [
        {
          "output_type": "stream",
          "name": "stdout",
          "text": [
            "1    4296\n",
            "2     224\n",
            "Name: quantity, dtype: int64\n"
          ]
        }
      ]
    },
    {
      "cell_type": "code",
      "source": [
        "# Identify and display rows with item prices outside a certain range (e.g., below $1 or above $20)\n",
        "outlier_item_prices = chipotle_data[(chipotle_data['item_price'] < 1) | (chipotle_data['item_price'] > 20)]\n",
        "print(outlier_item_prices[['item_name', 'item_price']])\n"
      ],
      "metadata": {
        "colab": {
          "base_uri": "https://localhost:8080/"
        },
        "id": "HVSuBdV_dDw1",
        "outputId": "a2c997a1-5bdd-4f8a-a113-076e923e8212"
      },
      "execution_count": 28,
      "outputs": [
        {
          "output_type": "stream",
          "name": "stdout",
          "text": [
            "                         item_name  item_price\n",
            "135             Chicken Salad Bowl       22.50\n",
            "213             Chicken Salad Bowl       22.50\n",
            "281               Steak Salad Bowl       23.78\n",
            "353                  Steak Burrito       22.16\n",
            "409                   Chicken Bowl       32.94\n",
            "445                           Bowl       22.20\n",
            "506                  Carnitas Bowl       23.50\n",
            "549                  Steak Burrito       22.16\n",
            "591             Chicken Salad Bowl       22.50\n",
            "613               Steak Salad Bowl       23.78\n",
            "633             Chicken Salad Bowl       22.50\n",
            "816             Chicken Salad Bowl       22.50\n",
            "864             Chicken Salad Bowl       22.50\n",
            "1110            Chicken Salad Bowl       22.50\n",
            "1254               Chicken Burrito       35.00\n",
            "1255                 Steak Burrito       27.75\n",
            "1429                  Chicken Bowl       22.50\n",
            "1514                  Chicken Bowl       26.25\n",
            "1566                    Steak Bowl       23.50\n",
            "1718               Chicken Burrito       21.96\n",
            "1753                 Steak Burrito       23.50\n",
            "1832                  Chicken Bowl       21.96\n",
            "1923            Chicken Salad Bowl       22.50\n",
            "2075                  Chicken Bowl       21.96\n",
            "2419            Chicken Salad Bowl       22.50\n",
            "2510                  Chicken Bowl       22.50\n",
            "2525                  Chicken Bowl       21.96\n",
            "2942                  Chicken Bowl       21.96\n",
            "2954                 Steak Burrito       22.96\n",
            "3151                  Chicken Bowl       21.96\n",
            "3331               Chicken Burrito       21.96\n",
            "3334                    Steak Bowl       26.07\n",
            "3480                 Carnitas Bowl       35.25\n",
            "3507            Chicken Salad Bowl       22.50\n",
            "3508                  Chicken Bowl       21.96\n",
            "3598  Chips and Fresh Tomato Salsa       44.25\n",
            "3601                Veggie Burrito       33.75\n",
            "3602               Chicken Burrito       35.00\n",
            "3603                 Steak Burrito       27.75\n",
            "3634               Chicken Burrito       26.25\n",
            "3636               Chicken Burrito       26.25\n",
            "3658            Chicken Soft Tacos       21.96\n",
            "3754                    Steak Bowl       23.50\n",
            "3843                  Chicken Bowl       21.96\n",
            "4307                    Steak Bowl       23.50\n",
            "4423                  Chicken Bowl       22.50\n",
            "4427                    Steak Bowl       23.50\n"
          ]
        }
      ]
    },
    {
      "cell_type": "code",
      "source": [
        "import matplotlib.pyplot as plt\n",
        "\n",
        "# Visualize the distribution of quantities\n",
        "plt.figure(figsize=(8, 6))\n",
        "chipotle_data['quantity'].value_counts().sort_index().plot(kind='bar', color='skyblue')\n",
        "plt.xlabel('Quantity')\n",
        "plt.ylabel('Frequency')\n",
        "plt.title('Distribution of Order Quantities')\n",
        "plt.show()\n",
        "\n",
        "# Display rows where quantity is greater than 2\n",
        "high_quantity_orders = chipotle_data[chipotle_data['quantity'] > 2]\n",
        "print(high_quantity_orders[['item_name', 'quantity']])\n"
      ],
      "metadata": {
        "colab": {
          "base_uri": "https://localhost:8080/",
          "height": 1000
        },
        "id": "e3xJBexedIju",
        "outputId": "718e8901-f937-40c4-d9a1-61e640b4eb9f"
      },
      "execution_count": 29,
      "outputs": [
        {
          "output_type": "display_data",
          "data": {
            "text/plain": [
              "<Figure size 800x600 with 1 Axes>"
            ],
            "image/png": "[encoded data removed]"
          },
          "metadata": {}
        },
        {
          "output_type": "stream",
          "name": "stdout",
          "text": [
            "                                item_name  quantity\n",
            "409                          Chicken Bowl         3\n",
            "445                                  Bowl         3\n",
            "689                     Canned Soft Drink         3\n",
            "818                         Bottled Water         3\n",
            "850                     Canned Soft Drink         3\n",
            "917                     Canned Soft Drink         3\n",
            "1254                      Chicken Burrito         4\n",
            "1255                        Steak Burrito         3\n",
            "1257         Chips and Fresh Tomato Salsa         4\n",
            "1425                        Bottled Water         4\n",
            "1514                         Chicken Bowl         3\n",
            "1559                    Canned Soft Drink         3\n",
            "1880                        Bottled Water         4\n",
            "2235                          Canned Soda         4\n",
            "2441                        Bottled Water         5\n",
            "2645                  Chips and Guacamole         3\n",
            "2823                        Bottled Water         3\n",
            "2936                                Chips         3\n",
            "2944                        Side of Chips         3\n",
            "2972  Chips and Tomatillo-Red Chili Salsa         3\n",
            "3089                    Canned Soft Drink         3\n",
            "3128                    Canned Soft Drink         3\n",
            "3270  Chips and Tomatillo-Red Chili Salsa         3\n",
            "3294                        Bottled Water         3\n",
            "3314                        Bottled Water         3\n",
            "3334                           Steak Bowl         3\n",
            "3480                        Carnitas Bowl         3\n",
            "3598         Chips and Fresh Tomato Salsa        15\n",
            "3599                        Bottled Water         7\n",
            "3601                       Veggie Burrito         3\n",
            "3602                      Chicken Burrito         4\n",
            "3603                        Steak Burrito         3\n",
            "3634                      Chicken Burrito         3\n",
            "3636                      Chicken Burrito         3\n",
            "3887                        Side of Chips         8\n",
            "3973                    Canned Soft Drink         4\n",
            "4098                    Canned Soft Drink         3\n",
            "4137                        Bottled Water         3\n",
            "4152                        Bottled Water        10\n",
            "4186                        Bottled Water         3\n",
            "4489                  Chips and Guacamole         4\n",
            "4490                    Canned Soft Drink         4\n",
            "4491                    Canned Soft Drink         4\n"
          ]
        }
      ]
    },
    {
      "cell_type": "code",
      "source": [
        "import ast\n",
        "\n",
        "# Extract unique choices from the \"Choice Description\" column\n",
        "unique_choices = set()\n",
        "\n",
        "def extract_choices(choices):\n",
        "    try:\n",
        "        return set(ast.literal_eval(choices))\n",
        "    except (SyntaxError, ValueError):\n",
        "        return set()\n",
        "\n",
        "# Apply the function to each row in the \"Choice Description\" column\n",
        "chipotle_data['choice_description'].dropna().apply(lambda x: unique_choices.update(extract_choices(x)))\n",
        "\n",
        "# Create binary columns for each unique choice\n",
        "for choice in unique_choices:\n",
        "    chipotle_data[choice] = chipotle_data['choice_description'].apply(lambda x: choice in ast.literal_eval(x) if pd.notna(x) else False)\n"
      ],
      "metadata": {
        "id": "mrY461G_dO30"
      },
      "execution_count": 32,
      "outputs": []
    },
    {
      "cell_type": "code",
      "source": [
        "binary_columns = chipotle_data.apply(lambda x: x.nunique() == 2)\n",
        "\n",
        "# Display the binary columns\n",
        "print(binary_columns)\n"
      ],
      "metadata": {
        "colab": {
          "base_uri": "https://localhost:8080/"
        },
        "id": "VyYzFsJ_ddr3",
        "outputId": "24b1d18b-c4bb-4ca5-a8cc-9f9e5c939d9f"
      },
      "execution_count": 33,
      "outputs": [
        {
          "output_type": "stream",
          "name": "stdout",
          "text": [
            "order_id              False\n",
            "quantity              False\n",
            "item_name             False\n",
            "choice_description    False\n",
            "item_price            False\n",
            "dtype: bool\n"
          ]
        }
      ]
    },
    {
      "cell_type": "code",
      "source": [
        "# Display the columns of the DataFrame\n",
        "print(chipotle_data.columns)\n"
      ],
      "metadata": {
        "colab": {
          "base_uri": "https://localhost:8080/"
        },
        "id": "CXmS3PVrd_eJ",
        "outputId": "1fa2a127-b5fa-4a4c-9e8b-e269ae2334be"
      },
      "execution_count": 34,
      "outputs": [
        {
          "output_type": "stream",
          "name": "stdout",
          "text": [
            "Index(['order_id', 'quantity', 'item_name', 'choice_description',\n",
            "       'item_price'],\n",
            "      dtype='object')\n"
          ]
        }
      ]
    },
    {
      "cell_type": "code",
      "source": [
        "import string\n",
        "\n",
        "# Specify the text-based columns you want to check\n",
        "text_columns = ['item_name', 'choice_description']\n",
        "\n",
        "# Check for special characters in each text column\n",
        "for column in text_columns:\n",
        "    has_special_characters = chipotle_data[column].apply(lambda x: any(char in string.punctuation for char in str(x)))\n",
        "\n",
        "    # Display rows with special characters in the current column\n",
        "    rows_with_special_characters = chipotle_data[has_special_characters]\n",
        "    print(f\"Rows with special characters in {column}:\")\n",
        "    print(rows_with_special_characters[[column]])\n",
        "\n",
        "# If you want to remove special characters, you can use the following code\n",
        "# Replace special characters with an empty string\n",
        "chipotle_data[text_columns] = chipotle_data[text_columns].replace('[^\\w\\s]', '', regex=True)\n"
      ],
      "metadata": {
        "colab": {
          "base_uri": "https://localhost:8080/"
        },
        "id": "Vz2qqLYye6au",
        "outputId": "0dbe24fb-b9f1-4da8-fa8e-262d4ee05a8c"
      },
      "execution_count": 36,
      "outputs": [
        {
          "output_type": "stream",
          "name": "stdout",
          "text": [
            "Rows with special characters in item_name:\n",
            "                                  item_name\n",
            "3     Chips and Tomatillo-Green Chili Salsa\n",
            "15    Chips and Tomatillo-Green Chili Salsa\n",
            "30    Chips and Tomatillo-Green Chili Salsa\n",
            "113   Chips and Tomatillo-Green Chili Salsa\n",
            "133   Chips and Tomatillo-Green Chili Salsa\n",
            "...                                     ...\n",
            "3810  Chips and Tomatillo-Green Chili Salsa\n",
            "3871  Chips and Tomatillo-Green Chili Salsa\n",
            "3905     Chips and Roasted Chili-Corn Salsa\n",
            "4007  Chips and Tomatillo-Green Chili Salsa\n",
            "4088    Chips and Tomatillo-Red Chili Salsa\n",
            "\n",
            "[68 rows x 1 columns]\n",
            "Rows with special characters in choice_description:\n",
            "                                     choice_description\n",
            "1                                          [Clementine]\n",
            "2                                               [Apple]\n",
            "4     [Tomatillo-Red Chili Salsa (Hot), [Black Beans...\n",
            "5     [Fresh Tomato Salsa (Mild), [Rice, Cheese, Sou...\n",
            "7     [Tomatillo Red Chili Salsa, [Fajita Vegetables...\n",
            "...                                                 ...\n",
            "4617  [Fresh Tomato Salsa, [Rice, Black Beans, Sour ...\n",
            "4618  [Fresh Tomato Salsa, [Rice, Sour Cream, Cheese...\n",
            "4619  [Fresh Tomato Salsa, [Fajita Vegetables, Pinto...\n",
            "4620  [Fresh Tomato Salsa, [Fajita Vegetables, Lettu...\n",
            "4621  [Fresh Tomato Salsa, [Fajita Vegetables, Pinto...\n",
            "\n",
            "[3335 rows x 1 columns]\n"
          ]
        }
      ]
    },
    {
      "cell_type": "code",
      "source": [
        "import string\n",
        "\n",
        "# Specify the text-based columns you want to clean\n",
        "text_columns = ['item_name', 'choice_description']\n",
        "\n",
        "# Remove special characters from specified text columns\n",
        "chipotle_data[text_columns] = chipotle_data[text_columns].replace('[^\\w\\s]', '', regex=True)\n",
        "\n",
        "# Display the cleaned DataFrame\n",
        "print(chipotle_data)\n"
      ],
      "metadata": {
        "colab": {
          "base_uri": "https://localhost:8080/"
        },
        "id": "ze7bf6_lfqET",
        "outputId": "e2099818-107e-4bd8-ca4d-71c3b24585f4"
      },
      "execution_count": 37,
      "outputs": [
        {
          "output_type": "stream",
          "name": "stdout",
          "text": [
            "      order_id  quantity                             item_name  \\\n",
            "0            1         1          Chips and Fresh Tomato Salsa   \n",
            "1            1         1                                  Izze   \n",
            "2            1         1                      Nantucket Nectar   \n",
            "3            1         1  Chips and TomatilloGreen Chili Salsa   \n",
            "4            2         2                          Chicken Bowl   \n",
            "...        ...       ...                                   ...   \n",
            "4617      1833         1                         Steak Burrito   \n",
            "4618      1833         1                         Steak Burrito   \n",
            "4619      1834         1                    Chicken Salad Bowl   \n",
            "4620      1834         1                    Chicken Salad Bowl   \n",
            "4621      1834         1                    Chicken Salad Bowl   \n",
            "\n",
            "                                     choice_description  item_price  \n",
            "0                                         Not specified        2.39  \n",
            "1                                            Clementine        3.39  \n",
            "2                                                 Apple        3.39  \n",
            "3                                         Not specified        2.39  \n",
            "4     TomatilloRed Chili Salsa Hot Black Beans Rice ...       16.98  \n",
            "...                                                 ...         ...  \n",
            "4617  Fresh Tomato Salsa Rice Black Beans Sour Cream...       11.75  \n",
            "4618  Fresh Tomato Salsa Rice Sour Cream Cheese Lett...       11.75  \n",
            "4619  Fresh Tomato Salsa Fajita Vegetables Pinto Bea...       11.25  \n",
            "4620       Fresh Tomato Salsa Fajita Vegetables Lettuce        8.75  \n",
            "4621  Fresh Tomato Salsa Fajita Vegetables Pinto Bea...        8.75  \n",
            "\n",
            "[4563 rows x 5 columns]\n"
          ]
        }
      ]
    },
    {
      "cell_type": "code",
      "source": [
        "# Check for missing values in the Order ID column\n",
        "missing_order_ids = chipotle_data['order_id'].isnull().any()\n",
        "\n",
        "# Check for duplicated Order IDs\n",
        "duplicated_order_ids = chipotle_data['order_id'].duplicated().any()\n",
        "\n",
        "# Print the results\n",
        "print(\"Missing Order IDs:\", missing_order_ids)\n",
        "print(\"Duplicated Order IDs:\", duplicated_order_ids)\n"
      ],
      "metadata": {
        "colab": {
          "base_uri": "https://localhost:8080/"
        },
        "id": "xMzLfY2rfwyU",
        "outputId": "60ccb37e-ceef-42b7-a8fe-ad97d675a74a"
      },
      "execution_count": 38,
      "outputs": [
        {
          "output_type": "stream",
          "name": "stdout",
          "text": [
            "Missing Order IDs: False\n",
            "Duplicated Order IDs: True\n"
          ]
        }
      ]
    },
    {
      "cell_type": "code",
      "source": [
        "# Display rows with duplicated Order IDs\n",
        "duplicated_orders = chipotle_data[chipotle_data['order_id'].duplicated(keep=False)]\n",
        "print(duplicated_orders)\n"
      ],
      "metadata": {
        "colab": {
          "base_uri": "https://localhost:8080/"
        },
        "id": "qErmgs5igGQJ",
        "outputId": "5f351956-c9e5-48a7-be6a-ba50f441c2cf"
      },
      "execution_count": 39,
      "outputs": [
        {
          "output_type": "stream",
          "name": "stdout",
          "text": [
            "      order_id  quantity                             item_name  \\\n",
            "0            1         1          Chips and Fresh Tomato Salsa   \n",
            "1            1         1                                  Izze   \n",
            "2            1         1                      Nantucket Nectar   \n",
            "3            1         1  Chips and TomatilloGreen Chili Salsa   \n",
            "5            3         1                          Chicken Bowl   \n",
            "...        ...       ...                                   ...   \n",
            "4617      1833         1                         Steak Burrito   \n",
            "4618      1833         1                         Steak Burrito   \n",
            "4619      1834         1                    Chicken Salad Bowl   \n",
            "4620      1834         1                    Chicken Salad Bowl   \n",
            "4621      1834         1                    Chicken Salad Bowl   \n",
            "\n",
            "                                     choice_description  item_price  \n",
            "0                                         Not specified        2.39  \n",
            "1                                            Clementine        3.39  \n",
            "2                                                 Apple        3.39  \n",
            "3                                         Not specified        2.39  \n",
            "5     Fresh Tomato Salsa Mild Rice Cheese Sour Cream...       10.98  \n",
            "...                                                 ...         ...  \n",
            "4617  Fresh Tomato Salsa Rice Black Beans Sour Cream...       11.75  \n",
            "4618  Fresh Tomato Salsa Rice Sour Cream Cheese Lett...       11.75  \n",
            "4619  Fresh Tomato Salsa Fajita Vegetables Pinto Bea...       11.25  \n",
            "4620       Fresh Tomato Salsa Fajita Vegetables Lettuce        8.75  \n",
            "4621  Fresh Tomato Salsa Fajita Vegetables Pinto Bea...        8.75  \n",
            "\n",
            "[4428 rows x 5 columns]\n"
          ]
        }
      ]
    },
    {
      "cell_type": "code",
      "source": [
        "# Aggregate items by Order ID\n",
        "aggregated_orders = chipotle_data.groupby('order_id').agg({\n",
        "    'quantity': 'sum',\n",
        "    'item_name': ', '.join,\n",
        "    'choice_description': ', '.join,\n",
        "    'item_price': 'sum'\n",
        "}).reset_index()\n",
        "\n",
        "# Display the first few rows of the aggregated data\n",
        "print(aggregated_orders.head())\n"
      ],
      "metadata": {
        "colab": {
          "base_uri": "https://localhost:8080/"
        },
        "id": "Gvzc1lTegLm7",
        "outputId": "b34a88e2-77bd-49de-ce81-89e2289e5045"
      },
      "execution_count": 40,
      "outputs": [
        {
          "output_type": "stream",
          "name": "stdout",
          "text": [
            "   order_id  quantity                                          item_name  \\\n",
            "0         1         4  Chips and Fresh Tomato Salsa, Izze, Nantucket ...   \n",
            "1         2         2                                       Chicken Bowl   \n",
            "2         3         2                        Chicken Bowl, Side of Chips   \n",
            "3         4         2                    Steak Burrito, Steak Soft Tacos   \n",
            "4         5         2                 Steak Burrito, Chips and Guacamole   \n",
            "\n",
            "                                  choice_description  item_price  \n",
            "0    Not specified, Clementine, Apple, Not specified       11.56  \n",
            "1  TomatilloRed Chili Salsa Hot Black Beans Rice ...       16.98  \n",
            "2  Fresh Tomato Salsa Mild Rice Cheese Sour Cream...       12.67  \n",
            "3  Tomatillo Red Chili Salsa Fajita Vegetables Bl...       21.00  \n",
            "4  Fresh Tomato Salsa Rice Black Beans Pinto Bean...       13.70  \n"
          ]
        }
      ]
    },
    {
      "cell_type": "code",
      "source": [
        "# Display unique values in the \"Item Name\" column\n",
        "unique_item_names = chipotle_data['item_name'].unique()\n",
        "print(unique_item_names)\n",
        "\n"
      ],
      "metadata": {
        "colab": {
          "base_uri": "https://localhost:8080/"
        },
        "id": "lIF_-xLMgXvX",
        "outputId": "55c65f1f-c0ad-494a-f366-183f0ffd1289"
      },
      "execution_count": 41,
      "outputs": [
        {
          "output_type": "stream",
          "name": "stdout",
          "text": [
            "['Chips and Fresh Tomato Salsa' 'Izze' 'Nantucket Nectar'\n",
            " 'Chips and TomatilloGreen Chili Salsa' 'Chicken Bowl' 'Side of Chips'\n",
            " 'Steak Burrito' 'Steak Soft Tacos' 'Chips and Guacamole'\n",
            " 'Chicken Crispy Tacos' 'Chicken Soft Tacos' 'Chicken Burrito'\n",
            " 'Canned Soda' 'Barbacoa Burrito' 'Carnitas Burrito' 'Carnitas Bowl'\n",
            " 'Bottled Water' 'Chips and Tomatillo Green Chili Salsa' 'Barbacoa Bowl'\n",
            " 'Chips' 'Chicken Salad Bowl' 'Steak Bowl' 'Barbacoa Soft Tacos'\n",
            " 'Veggie Burrito' 'Veggie Bowl' 'Steak Crispy Tacos'\n",
            " 'Chips and Tomatillo Red Chili Salsa' 'Barbacoa Crispy Tacos'\n",
            " 'Veggie Salad Bowl' 'Chips and Roasted ChiliCorn Salsa'\n",
            " 'Chips and Roasted Chili Corn Salsa' 'Carnitas Soft Tacos'\n",
            " 'Chicken Salad' 'Canned Soft Drink' 'Steak Salad Bowl'\n",
            " '6 Pack Soft Drink' 'Chips and TomatilloRed Chili Salsa' 'Bowl' 'Burrito'\n",
            " 'Crispy Tacos' 'Carnitas Crispy Tacos' 'Steak Salad'\n",
            " 'Chips and Mild Fresh Tomato Salsa' 'Veggie Soft Tacos'\n",
            " 'Carnitas Salad Bowl' 'Barbacoa Salad Bowl' 'Salad' 'Veggie Crispy Tacos'\n",
            " 'Veggie Salad' 'Carnitas Salad']\n"
          ]
        }
      ]
    },
    {
      "cell_type": "code",
      "source": [
        "# Mapping to standardize item names\n",
        "item_name_mapping = {\n",
        "    'Chips and TomatilloGreen Chili Salsa': 'Chips and Tomatillo Green Chili Salsa',\n",
        "    'Chips and Tomatillo Red Chili Salsa': 'Chips and Tomatillo-Red Chili Salsa',\n",
        "    'Chips and Roasted ChiliCorn Salsa': 'Chips and Roasted Chili Corn Salsa',\n",
        "    '6 Pack Soft Drink': 'Canned Soft Drink',\n",
        "    'Bowl': 'Side of Chips',  # Adjust this mapping based on your preference\n",
        "    'Burrito': 'Chicken Burrito',  # Adjust this mapping based on your preference\n",
        "    'Crispy Tacos': 'Chicken Crispy Tacos',  # Adjust this mapping based on your preference\n",
        "    # Add more mappings as needed\n",
        "}\n",
        "\n",
        "# Standardize the \"Item Name\" column\n",
        "chipotle_data['item_name'] = chipotle_data['item_name'].replace(item_name_mapping)\n"
      ],
      "metadata": {
        "id": "2EicLReGgi3D"
      },
      "execution_count": 42,
      "outputs": []
    },
    {
      "cell_type": "code",
      "source": [
        "# Check unique values in the \"Item Name\" column\n",
        "unique_item_names = chipotle_data['item_name'].unique()\n",
        "print(unique_item_names)\n"
      ],
      "metadata": {
        "colab": {
          "base_uri": "https://localhost:8080/"
        },
        "id": "LZF06qP5gq30",
        "outputId": "aa26129b-df97-4866-aafd-0d9bd829da1e"
      },
      "execution_count": 43,
      "outputs": [
        {
          "output_type": "stream",
          "name": "stdout",
          "text": [
            "['Chips and Fresh Tomato Salsa' 'Izze' 'Nantucket Nectar'\n",
            " 'Chips and Tomatillo Green Chili Salsa' 'Chicken Bowl' 'Side of Chips'\n",
            " 'Steak Burrito' 'Steak Soft Tacos' 'Chips and Guacamole'\n",
            " 'Chicken Crispy Tacos' 'Chicken Soft Tacos' 'Chicken Burrito'\n",
            " 'Canned Soda' 'Barbacoa Burrito' 'Carnitas Burrito' 'Carnitas Bowl'\n",
            " 'Bottled Water' 'Barbacoa Bowl' 'Chips' 'Chicken Salad Bowl' 'Steak Bowl'\n",
            " 'Barbacoa Soft Tacos' 'Veggie Burrito' 'Veggie Bowl' 'Steak Crispy Tacos'\n",
            " 'Chips and Tomatillo-Red Chili Salsa' 'Barbacoa Crispy Tacos'\n",
            " 'Veggie Salad Bowl' 'Chips and Roasted Chili Corn Salsa'\n",
            " 'Carnitas Soft Tacos' 'Chicken Salad' 'Canned Soft Drink'\n",
            " 'Steak Salad Bowl' 'Chips and TomatilloRed Chili Salsa'\n",
            " 'Carnitas Crispy Tacos' 'Steak Salad' 'Chips and Mild Fresh Tomato Salsa'\n",
            " 'Veggie Soft Tacos' 'Carnitas Salad Bowl' 'Barbacoa Salad Bowl' 'Salad'\n",
            " 'Veggie Crispy Tacos' 'Veggie Salad' 'Carnitas Salad']\n"
          ]
        }
      ]
    },
    {
      "cell_type": "code",
      "source": [
        "# Step 1: Create a new column for Total Price\n",
        "chipotle_data['Total Price'] = chipotle_data['quantity'] * chipotle_data['item_price']\n",
        "\n",
        "# Step 2: Examine the statistical summary of the Total Price column\n",
        "total_price_summary = chipotle_data['Total Price'].describe()\n",
        "\n",
        "# Step 3: Display the Total Price column and check for any unexpected values\n",
        "print(chipotle_data[['quantity', 'item_price', 'Total Price']])\n",
        "print(\"\\nStatistical Summary of Total Price:\")\n",
        "print(total_price_summary)\n"
      ],
      "metadata": {
        "colab": {
          "base_uri": "https://localhost:8080/"
        },
        "id": "4vHDK4EEgwwk",
        "outputId": "77a18656-a829-49bc-d02d-1e22d08dc12f"
      },
      "execution_count": 44,
      "outputs": [
        {
          "output_type": "stream",
          "name": "stdout",
          "text": [
            "      quantity  item_price  Total Price\n",
            "0            1        2.39         2.39\n",
            "1            1        3.39         3.39\n",
            "2            1        3.39         3.39\n",
            "3            1        2.39         2.39\n",
            "4            2       16.98        33.96\n",
            "...        ...         ...          ...\n",
            "4617         1       11.75        11.75\n",
            "4618         1       11.75        11.75\n",
            "4619         1       11.25        11.25\n",
            "4620         1        8.75         8.75\n",
            "4621         1        8.75         8.75\n",
            "\n",
            "[4563 rows x 3 columns]\n",
            "\n",
            "Statistical Summary of Total Price:\n",
            "count    4563.000000\n",
            "mean        8.528185\n",
            "std        12.701196\n",
            "min         1.090000\n",
            "25%         3.990000\n",
            "50%         8.750000\n",
            "75%        10.980000\n",
            "max       663.750000\n",
            "Name: Total Price, dtype: float64\n"
          ]
        }
      ]
    },
    {
      "cell_type": "code",
      "source": [
        "import matplotlib.pyplot as plt\n",
        "import seaborn as sns\n",
        "\n",
        "# Scatter plot of Quantity vs. Total Price\n",
        "plt.figure(figsize=(10, 6))\n",
        "sns.scatterplot(x='quantity', y='Total Price', data=chipotle_data)\n",
        "plt.title('Scatter Plot of Quantity vs. Total Price')\n",
        "plt.xlabel('Quantity')\n",
        "plt.ylabel('Total Price')\n",
        "plt.show()\n"
      ],
      "metadata": {
        "colab": {
          "base_uri": "https://localhost:8080/",
          "height": 564
        },
        "id": "lVX4SaG1g-62",
        "outputId": "28369990-3c15-4d12-dd79-7f7681f86d4a"
      },
      "execution_count": 45,
      "outputs": [
        {
          "output_type": "display_data",
          "data": {
            "text/plain": [
              "<Figure size 1000x600 with 1 Axes>"
            ],
            "image/png": "[encoded data removed]"
          },
          "metadata": {}
        }
      ]
    },
    {
      "cell_type": "code",
      "source": [
        "# Calculate the actual total price based on quantity and item price\n",
        "chipotle_data['Actual Total Price'] = chipotle_data['quantity'] * chipotle_data['item_price']\n",
        "\n",
        "# Check for discrepancies between calculated and actual total price\n",
        "discrepancies = chipotle_data[chipotle_data['Total Price'] != chipotle_data['Actual Total Price']]\n",
        "\n",
        "# Display rows with discrepancies\n",
        "print(\"Rows with Discrepancies:\")\n",
        "print(discrepancies[['quantity', 'item_price', 'Total Price', 'Actual Total Price']])\n",
        "\n"
      ],
      "metadata": {
        "colab": {
          "base_uri": "https://localhost:8080/"
        },
        "id": "GXTJkh-ThHFc",
        "outputId": "b839edc1-8b61-4af4-f59a-2a0822a9273b"
      },
      "execution_count": 46,
      "outputs": [
        {
          "output_type": "stream",
          "name": "stdout",
          "text": [
            "Rows with Discrepancies:\n",
            "Empty DataFrame\n",
            "Columns: [quantity, item_price, Total Price, Actual Total Price]\n",
            "Index: []\n"
          ]
        }
      ]
    },
    {
      "cell_type": "code",
      "source": [
        "# Assuming your cleaned dataset is stored in the variable chipotle_data\n",
        "chipotle_data.to_csv('cleaned_chipotle_data.csv', sep=',', index=False)\n"
      ],
      "metadata": {
        "id": "0ZDPFD5_hO00"
      },
      "execution_count": 48,
      "outputs": []
    },
    {
      "cell_type": "code",
      "source": [
        "# Assuming 'item_name' is the categorical column in your dataset\n",
        "# If you have multiple categorical columns, you can repeat the process for each one\n",
        "\n",
        "# Perform one-hot encoding\n",
        "encoded_chipotle_data = pd.get_dummies(chipotle_data, columns=['item_name'])\n",
        "\n",
        "# Display the first few rows of the encoded dataset\n",
        "print(encoded_chipotle_data.head())\n"
      ],
      "metadata": {
        "colab": {
          "base_uri": "https://localhost:8080/"
        },
        "id": "q8w4sJTphcLg",
        "outputId": "87d8b94c-cc22-4c36-d759-ad79252a536c"
      },
      "execution_count": 49,
      "outputs": [
        {
          "output_type": "stream",
          "name": "stdout",
          "text": [
            "   order_id  quantity                                 choice_description  \\\n",
            "0         1         1                                      Not specified   \n",
            "1         1         1                                         Clementine   \n",
            "2         1         1                                              Apple   \n",
            "3         1         1                                      Not specified   \n",
            "4         2         2  TomatilloRed Chili Salsa Hot Black Beans Rice ...   \n",
            "\n",
            "   item_price  Total Price  Actual Total Price  item_name_Barbacoa Bowl  \\\n",
            "0        2.39         2.39                2.39                        0   \n",
            "1        3.39         3.39                3.39                        0   \n",
            "2        3.39         3.39                3.39                        0   \n",
            "3        2.39         2.39                2.39                        0   \n",
            "4       16.98        33.96               33.96                        0   \n",
            "\n",
            "   item_name_Barbacoa Burrito  item_name_Barbacoa Crispy Tacos  \\\n",
            "0                           0                                0   \n",
            "1                           0                                0   \n",
            "2                           0                                0   \n",
            "3                           0                                0   \n",
            "4                           0                                0   \n",
            "\n",
            "   item_name_Barbacoa Salad Bowl  ...  item_name_Steak Crispy Tacos  \\\n",
            "0                              0  ...                             0   \n",
            "1                              0  ...                             0   \n",
            "2                              0  ...                             0   \n",
            "3                              0  ...                             0   \n",
            "4                              0  ...                             0   \n",
            "\n",
            "   item_name_Steak Salad  item_name_Steak Salad Bowl  \\\n",
            "0                      0                           0   \n",
            "1                      0                           0   \n",
            "2                      0                           0   \n",
            "3                      0                           0   \n",
            "4                      0                           0   \n",
            "\n",
            "   item_name_Steak Soft Tacos  item_name_Veggie Bowl  \\\n",
            "0                           0                      0   \n",
            "1                           0                      0   \n",
            "2                           0                      0   \n",
            "3                           0                      0   \n",
            "4                           0                      0   \n",
            "\n",
            "   item_name_Veggie Burrito  item_name_Veggie Crispy Tacos  \\\n",
            "0                         0                              0   \n",
            "1                         0                              0   \n",
            "2                         0                              0   \n",
            "3                         0                              0   \n",
            "4                         0                              0   \n",
            "\n",
            "   item_name_Veggie Salad  item_name_Veggie Salad Bowl  \\\n",
            "0                       0                            0   \n",
            "1                       0                            0   \n",
            "2                       0                            0   \n",
            "3                       0                            0   \n",
            "4                       0                            0   \n",
            "\n",
            "   item_name_Veggie Soft Tacos  \n",
            "0                            0  \n",
            "1                            0  \n",
            "2                            0  \n",
            "3                            0  \n",
            "4                            0  \n",
            "\n",
            "[5 rows x 50 columns]\n"
          ]
        }
      ]
    },
    {
      "cell_type": "code",
      "source": [],
      "metadata": {
        "id": "ZFv7XTREiV_V"
      },
      "execution_count": null,
      "outputs": []
    }
  ]
}